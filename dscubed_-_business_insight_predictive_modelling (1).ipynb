{
 "cells": [
  {
   "cell_type": "code",
   "execution_count": 2,
   "id": "e7046aca",
   "metadata": {},
   "outputs": [],
   "source": [
    "#importing the relevant libraries:\n",
    "import pandas as pd\n",
    "import numpy as np\n",
    "from matplotlib import pyplot as plt\n",
    "from sklearn.model_selection import train_test_split # for splitting the data into training and testing sets\n",
    "from sklearn.linear_model import LinearRegression # models we are going to use\n",
    "from sklearn.metrics import r2_score, mean_squared_error, mean_absolute_error # for comparing the predicted and test values\n",
    "import seaborn as sns"
   ]
  },
  {
   "cell_type": "code",
   "execution_count": 4,
   "id": "c38b487b",
   "metadata": {},
   "outputs": [],
   "source": [
    "df = pd.read_csv('car_data.csv')\n",
    "df = df.drop('vin', axis=1)\n",
    "\n",
    "# Split the 'saledate' column into parts\n",
    "parts = df['saledate'].str.split(' ', expand=True)\n",
    "\n",
    "# Assign each part to a new column\n",
    "df['dow'] = parts[0]  # \"Tue\"\n",
    "df['date'] = parts[1] + ' ' + parts[2] + ' ' + parts[3]  # \"Dec 16 2014\"\n",
    "df['time'] = parts[4]  # \"12:30:00\"\n",
    "df['GMT'] = parts[5]  # \"GMT-0800\"\n",
    "df['GMT'] = df['GMT'].str.replace('GMT-', '', regex=False)\n",
    "df['timezone'] = parts[6].str.strip('()')  # \"PST\" without the parentheses\n",
    "df = df.drop(['saledate', 'timezone'], axis=1)\n",
    "#converting all the entries to lowercase\n",
    "df['make'] = df['make'].str.lower()\n",
    "df['body'] = df['body'].str.lower()\n",
    "df['model'] = df['model'].str.lower()\n",
    "#creating a new column \"difference\" (selling price - mmr)\n",
    "df['difference'] = df['sellingprice']-df['mmr']\n",
    "#dropping entries where no values exist \n",
    "df = df.dropna()\n",
    "#dropping any rows if the \"conditions\" variable has a 0 entry\n",
    "cleaned_df = df[df[\"condition\"] != 0]"
   ]
  },
  {
   "cell_type": "code",
   "execution_count": 6,
   "id": "e1ab2e40",
   "metadata": {},
   "outputs": [
    {
     "data": {
      "text/html": [
       "<div>\n",
       "<style scoped>\n",
       "    .dataframe tbody tr th:only-of-type {\n",
       "        vertical-align: middle;\n",
       "    }\n",
       "\n",
       "    .dataframe tbody tr th {\n",
       "        vertical-align: top;\n",
       "    }\n",
       "\n",
       "    .dataframe thead th {\n",
       "        text-align: right;\n",
       "    }\n",
       "</style>\n",
       "<table border=\"1\" class=\"dataframe\">\n",
       "  <thead>\n",
       "    <tr style=\"text-align: right;\">\n",
       "      <th></th>\n",
       "      <th>R^2</th>\n",
       "      <th>RMSE</th>\n",
       "      <th>MAE</th>\n",
       "    </tr>\n",
       "  </thead>\n",
       "  <tbody>\n",
       "    <tr>\n",
       "      <th>train</th>\n",
       "      <td>0.969275</td>\n",
       "      <td>1685.195059</td>\n",
       "      <td>1044.834592</td>\n",
       "    </tr>\n",
       "    <tr>\n",
       "      <th>test</th>\n",
       "      <td>0.971178</td>\n",
       "      <td>1631.373731</td>\n",
       "      <td>1043.920997</td>\n",
       "    </tr>\n",
       "  </tbody>\n",
       "</table>\n",
       "</div>"
      ],
      "text/plain": [
       "            R^2         RMSE          MAE\n",
       "train  0.969275  1685.195059  1044.834592\n",
       "test   0.971178  1631.373731  1043.920997"
      ]
     },
     "execution_count": 6,
     "metadata": {},
     "output_type": "execute_result"
    }
   ],
   "source": [
    "#multivariate linear regression\n",
    "\n",
    "# Define features and target variable\n",
    "X = cleaned_df[['year', 'odometer', 'condition','mmr']]\n",
    "y = cleaned_df['sellingprice']\n",
    "\n",
    "# Split data into train and test sets\n",
    "X_train, X_test, Y_train, Y_test = train_test_split(\n",
    "    X, y, test_size=0.2, random_state=np.random.RandomState(31287)\n",
    ")\n",
    "\n",
    "# Instantiate and fit the model\n",
    "linear = LinearRegression()\n",
    "linear.fit(X_train, Y_train)\n",
    "\n",
    "# Get predictions for training and testing data\n",
    "training_predictions = linear.predict(X_train)\n",
    "testing_predictions = linear.predict(X_test)\n",
    "\n",
    "# Create a table of the various scores\n",
    "pd.DataFrame({\n",
    "    \"R^2\": {\n",
    "        \"train\": r2_score(Y_train, training_predictions),\n",
    "        \"test\": r2_score(Y_test, testing_predictions)\n",
    "    },\n",
    "    \"RMSE\": {\n",
    "        \"train\": mean_squared_error(Y_train, training_predictions, squared=False),\n",
    "        \"test\": mean_squared_error(Y_test, testing_predictions, squared=False),\n",
    "    },\n",
    "    \"MAE\": {\n",
    "        \"train\": mean_absolute_error(Y_train, training_predictions),\n",
    "        \"test\": mean_absolute_error(Y_test, testing_predictions),\n",
    "    },\n",
    "})"
   ]
  },
  {
   "cell_type": "code",
   "execution_count": 7,
   "id": "98d4668b",
   "metadata": {},
   "outputs": [
    {
     "data": {
      "text/plain": [
       "year        -42.633078\n",
       "odometer     -0.001016\n",
       "condition    37.318204\n",
       "mmr           0.984331\n",
       "dtype: float64"
      ]
     },
     "execution_count": 7,
     "metadata": {},
     "output_type": "execute_result"
    }
   ],
   "source": [
    "feature_names = X.columns.tolist() \n",
    "# the regression coefficient values\n",
    "coefficients = pd.Series(data=linear.coef_.transpose(), index=feature_names)\n",
    "coefficients"
   ]
  },
  {
   "cell_type": "code",
   "execution_count": 8,
   "id": "7a8411e5",
   "metadata": {},
   "outputs": [
    {
     "data": {
      "text/plain": [
       "84690.925"
      ]
     },
     "execution_count": 8,
     "metadata": {},
     "output_type": "execute_result"
    }
   ],
   "source": [
    "#The regression intercept\n",
    "intercept=np.round(linear.intercept_,3)\n",
    "intercept"
   ]
  },
  {
   "cell_type": "code",
   "execution_count": null,
   "id": "0a92739b",
   "metadata": {},
   "outputs": [],
   "source": []
  }
 ],
 "metadata": {
  "kernelspec": {
   "display_name": "Python 3 (ipykernel)",
   "language": "python",
   "name": "python3"
  },
  "language_info": {
   "codemirror_mode": {
    "name": "ipython",
    "version": 3
   },
   "file_extension": ".py",
   "mimetype": "text/x-python",
   "name": "python",
   "nbconvert_exporter": "python",
   "pygments_lexer": "ipython3",
   "version": "3.9.7"
  }
 },
 "nbformat": 4,
 "nbformat_minor": 5
}
